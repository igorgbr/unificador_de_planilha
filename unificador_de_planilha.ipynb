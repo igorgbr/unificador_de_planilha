{
 "cells": [
  {
   "cell_type": "markdown",
   "metadata": {},
   "source": [
    "Configurações"
   ]
  },
  {
   "cell_type": "code",
   "execution_count": 64,
   "metadata": {},
   "outputs": [],
   "source": [
    "nome_escola = \"unificada_maragogipe_diretores_completa\" # Nome do arquivo final\n",
    "folha = \"\" # folha das planilhas que sera unificada"
   ]
  },
  {
   "cell_type": "markdown",
   "metadata": {},
   "source": [
    "Cria a primeira planilha base que tera o cabeçalho"
   ]
  },
  {
   "cell_type": "code",
   "execution_count": 65,
   "metadata": {},
   "outputs": [],
   "source": [
    "import pandas as pd\n",
    "import os\n",
    "\n",
    "match folha:\n",
    "    case \"Professores\":\n",
    "        print(\"Template Professores\")\n",
    "        df = pd.read_excel(\"teachers-template.xlsx\")\n",
    "    case \"Estudantes\":\n",
    "        print(\"Template Estudantes\")\n",
    "        df = pd.read_excel(\"students-template.xlsx\")\n",
    "    case \"Turmas\":\n",
    "        print(\"Template Turmas\")\n",
    "        df = pd.read_excel(\"turmas-template.xlsx\")\n",
    "    case \"Diretores\":\n",
    "        print(\"Template Diretores\")\n",
    "        df = pd.read_excel(\"directors-template.xlsx\")\n",
    "\n",
    "df.to_csv(\"planilha_base.csv\", index=False)"
   ]
  },
  {
   "cell_type": "markdown",
   "metadata": {},
   "source": [
    "Pega todos os arquivos *xls e converte para *csv guardando em um diretorio \"convertidos\""
   ]
  },
  {
   "cell_type": "code",
   "execution_count": 66,
   "metadata": {},
   "outputs": [
    {
     "name": "stdout",
     "output_type": "stream",
     "text": [
      "Erro ao converter convertidos: [Errno 13] Permission denied: 'planilhas\\\\convertidos'\n",
      "Arquivos convertidos com sucesso: ['arquivo_modificado_unificada_maragogipe_diretores.csv', 'arquivo_modificado_unificada_maragogipe_diretores_arlindo.csv']\n"
     ]
    }
   ],
   "source": [
    "arquivos_convertidos = []\n",
    "diretorio_saida = 'planilhas\\convertidos'\n",
    "\n",
    "if not os.path.exists(diretorio_saida):\n",
    "    os.makedirs(diretorio_saida)\n",
    "\n",
    "for arquivo_excel in os.listdir('planilhas'):\n",
    "    nome_arquivo_sem_extensao = os.path.splitext(arquivo_excel)[0]\n",
    "    caminho_arquivo_xls = os.path.join('planilhas', arquivo_excel)\n",
    "    caminho_arquivo_csv = os.path.join('planilhas\\convertidos', nome_arquivo_sem_extensao + \".csv\")\n",
    "\n",
    "    try:\n",
    "            if folha == \"\":\n",
    "                  df = pd.read_excel(caminho_arquivo_xls)\n",
    "            else:\n",
    "                df = pd.read_excel(caminho_arquivo_xls, sheet_name=folha)\n",
    "            \n",
    "            \n",
    "            df.to_csv(caminho_arquivo_csv, index=False)\n",
    "            arquivos_convertidos.append(nome_arquivo_sem_extensao + \".csv\")\n",
    "    except Exception as e:\n",
    "            print(f\"Erro ao converter {arquivo_excel}: {e}\")\n",
    "\n",
    "print(\"Arquivos convertidos com sucesso:\", arquivos_convertidos)"
   ]
  },
  {
   "cell_type": "markdown",
   "metadata": {},
   "source": [
    "Remove os cabeçalhos dos arquivos CSV"
   ]
  },
  {
   "cell_type": "code",
   "execution_count": 67,
   "metadata": {},
   "outputs": [
    {
     "name": "stdout",
     "output_type": "stream",
     "text": [
      "Cabeçalhos removidos com sucesso: ['arquivo_modificado_unificada_maragogipe_diretores_sem_cabecalho.csv', 'arquivo_modificado_unificada_maragogipe_diretores_arlindo_sem_cabecalho.csv']\n"
     ]
    }
   ],
   "source": [
    "diretorio_entrada = \"planilhas\\convertidos\"  \n",
    "arquivos_modificados = []\n",
    "diretorio_saida = diretorio_entrada + '\\sem_cabecalho'\n",
    "\n",
    "if not os.path.exists(diretorio_saida):\n",
    "    os.makedirs(diretorio_saida)\n",
    "\n",
    "for arquivo in os.listdir(diretorio_entrada):\n",
    "    if arquivo.endswith(\".csv\"):\n",
    "        nome_arquivo_sem_extensao = os.path.splitext(arquivo)[0]\n",
    "\n",
    "        # Caminhos dos arquivos de entrada e saída\n",
    "        caminho_arquivo_csv = os.path.join(diretorio_entrada, arquivo)\n",
    "        caminho_arquivo_csv_sem_cabecalho = os.path.join(diretorio_saida, nome_arquivo_sem_extensao + \"_sem_cabecalho.csv\")\n",
    "\n",
    "        # Remove o cabeçalho do arquivo CSV\n",
    "        with open(caminho_arquivo_csv, 'r') as arquivo_csv:\n",
    "            linhas = arquivo_csv.readlines()\n",
    "\n",
    "        linhas.pop(0)\n",
    "\n",
    "        with open(caminho_arquivo_csv_sem_cabecalho, 'w') as arquivo_csv_sem_cabecalho:\n",
    "            arquivo_csv_sem_cabecalho.writelines(linhas)\n",
    "\n",
    "        arquivos_modificados.append(nome_arquivo_sem_extensao + \"_sem_cabecalho.csv\")\n",
    "\n",
    "print(\"Cabeçalhos removidos com sucesso:\", arquivos_modificados)"
   ]
  },
  {
   "cell_type": "markdown",
   "metadata": {},
   "source": [
    "Concatena todos os CSV's sem cabeçalho em um unico arquivo"
   ]
  },
  {
   "cell_type": "code",
   "execution_count": 68,
   "metadata": {},
   "outputs": [
    {
     "name": "stdout",
     "output_type": "stream",
     "text": [
      "Arquivos CSV concatenados com sucesso em: <_io.TextIOWrapper name='arquivo_convertido_completo.csv' mode='w' encoding='utf-8'>\n"
     ]
    }
   ],
   "source": [
    "diretorio_entrada = \"planilhas\\convertidos\\sem_cabecalho\" \n",
    "arquivo_saida = \"arquivo_convertido_completo.csv\" \n",
    "\n",
    "arquivos_entrada = []\n",
    "\n",
    "for arquivo in os.listdir(diretorio_entrada):\n",
    "    if arquivo.endswith(\".csv\"):\n",
    "        arquivos_entrada.append(os.path.join(diretorio_entrada, arquivo))\n",
    "\n",
    "with open(arquivo_saida, 'w', newline='') as arquivo_saida:\n",
    "    for arquivo_entrada in arquivos_entrada:\n",
    "        with open(arquivo_entrada, 'r') as arquivo_csv:\n",
    "            linhas = arquivo_csv.readlines()\n",
    "            arquivo_saida.writelines(linhas)\n",
    "\n",
    "print(f\"Arquivos CSV concatenados com sucesso em: {arquivo_saida}\")"
   ]
  },
  {
   "cell_type": "markdown",
   "metadata": {},
   "source": [
    "Concatena os arquivos CSV com o CSV base"
   ]
  },
  {
   "cell_type": "code",
   "execution_count": 69,
   "metadata": {},
   "outputs": [
    {
     "name": "stdout",
     "output_type": "stream",
     "text": [
      "Arquivos CSV concatenados com sucesso em: <_io.TextIOWrapper name='arquivo_convertido_completo.csv' mode='w' encoding='utf-8'>\n"
     ]
    }
   ],
   "source": [
    "arquivo_final_csv = \"arquivo_convertido_final.csv\"\n",
    "planilha_base = 'planilha_base.csv'\n",
    "arquivo_formatado_csv = 'arquivo_convertido_completo.csv'\n",
    "\n",
    "with open(arquivo_final_csv, 'w', newline='') as arquivo_final_csv:\n",
    "    with open(planilha_base, 'r') as planilha_base:\n",
    "        linhas = planilha_base.readlines()\n",
    "        arquivo_final_csv.writelines(linhas)\n",
    "\n",
    "    with open(arquivo_formatado_csv, 'r') as arquivo_formatado_csv:\n",
    "        linhas = arquivo_formatado_csv.readlines()\n",
    "        arquivo_final_csv.writelines(linhas)\n",
    "\n",
    "print(f\"Arquivos CSV concatenados com sucesso em: {arquivo_saida}\")"
   ]
  },
  {
   "cell_type": "markdown",
   "metadata": {},
   "source": [
    "Converte o arquivo CSV em XLSx"
   ]
  },
  {
   "cell_type": "code",
   "execution_count": 70,
   "metadata": {},
   "outputs": [
    {
     "name": "stdout",
     "output_type": "stream",
     "text": [
      "Arquivo CSV convertido com sucesso para XLS: arquivo_convertido.xlsx\n"
     ]
    }
   ],
   "source": [
    "arquivo_csv = \"arquivo_convertido_final.csv\" \n",
    "arquivo_xls = \"arquivo_convertido.xlsx\"\n",
    "\n",
    "df = pd.read_csv(arquivo_csv)\n",
    "df.to_excel(arquivo_xls, engine='openpyxl')\n",
    "\n",
    "print(f\"Arquivo CSV convertido com sucesso para XLS: {arquivo_xls}\")"
   ]
  },
  {
   "cell_type": "code",
   "execution_count": 71,
   "metadata": {},
   "outputs": [],
   "source": [
    "import pandas as pd\n",
    "\n",
    "df = pd.read_excel(arquivo_xls)\n",
    "\n",
    "arquivo_xls_final = 'arquivo_modificado_' + nome_escola + '.xlsx'\n",
    "\n",
    "df = df.iloc[:, 1:]\n",
    "\n",
    "diretorio_raiz = os.getcwd()\n",
    "\n",
    "for arquivo in os.listdir(diretorio_raiz):\n",
    "    print\n",
    "    if arquivo == arquivo_xls_final:\n",
    "        print('arquivo ja existe!')\n",
    "        exit(1)\n",
    "\n",
    "df.to_excel(arquivo_xls_final, index=False)"
   ]
  },
  {
   "cell_type": "markdown",
   "metadata": {},
   "source": [
    "Limpa os arquivos utilizados"
   ]
  },
  {
   "cell_type": "code",
   "execution_count": 72,
   "metadata": {},
   "outputs": [
    {
     "name": "stdout",
     "output_type": "stream",
     "text": [
      "Arquivos CSV excluídos com sucesso do diretório raiz: c:\\Users\\Usuario\\Desktop\\Projetos\\PythonNotebooks\\unificador_de_planilha\n",
      "Diretório planilhas e seus conteúdos foram excluídos com sucesso.\n"
     ]
    }
   ],
   "source": [
    "import os\n",
    "\n",
    "def remover_diretorio(diretorio):\n",
    "    for arquivo_ou_diretorio in os.listdir(diretorio):\n",
    "        caminho_completo = os.path.join(diretorio, arquivo_ou_diretorio)\n",
    "        if os.path.isfile(caminho_completo):\n",
    "            os.remove(caminho_completo)\n",
    "        elif os.path.isdir(caminho_completo):\n",
    "            remover_diretorio(caminho_completo)\n",
    "            os.rmdir(caminho_completo)\n",
    "\n",
    "diretorio_alvo = \"planilhas\"\n",
    "\n",
    "remover_diretorio(diretorio_alvo)\n",
    "\n",
    "diretorio = os.getcwd()\n",
    "\n",
    "for arquivo in os.listdir(diretorio):\n",
    "    if arquivo.endswith(\".csv\"):\n",
    "        os.remove(os.path.join(diretorio, arquivo))\n",
    "\n",
    "os.remove('arquivo_convertido.xlsx')\n",
    "\n",
    "print(f\"Arquivos CSV excluídos com sucesso do diretório raiz: {diretorio}\")\n",
    "\n",
    "print(f\"Diretório {diretorio_alvo} e seus conteúdos foram excluídos com sucesso.\")"
   ]
  }
 ],
 "metadata": {
  "kernelspec": {
   "display_name": "base",
   "language": "python",
   "name": "python3"
  },
  "language_info": {
   "codemirror_mode": {
    "name": "ipython",
    "version": 3
   },
   "file_extension": ".py",
   "mimetype": "text/x-python",
   "name": "python",
   "nbconvert_exporter": "python",
   "pygments_lexer": "ipython3",
   "version": "3.11.7"
  }
 },
 "nbformat": 4,
 "nbformat_minor": 2
}
